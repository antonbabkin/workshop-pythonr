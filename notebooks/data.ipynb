{
 "cells": [
  {
   "cell_type": "code",
   "execution_count": null,
   "id": "a8691466-b537-4afd-af80-ef4bf423d446",
   "metadata": {},
   "outputs": [],
   "source": [
    "# Set working directory to project root, identified by presence of the .Rproj file\n",
    "import os\n",
    "while not os.path.exists('workshop-pythonr.Rproj'):\n",
    "    current_dir = os.getcwd()\n",
    "    parent_dir = os.path.abspath(os.path.join(current_dir, '..'))\n",
    "    if current_dir == parent_dir:\n",
    "        raise Exception('Can not find project root directory.')\n",
    "    os.chdir('..')\n",
    "print('Working directory set to:', os.getcwd())"
   ]
  },
  {
   "cell_type": "markdown",
   "id": "6a891ebf-2b56-49a5-865a-fe87c970357f",
   "metadata": {},
   "source": [
    "Load data preparation functions from the module `data`."
   ]
  },
  {
   "cell_type": "code",
   "execution_count": null,
   "id": "67d29e86-adcf-4159-82bd-05d46dd6bea9",
   "metadata": {},
   "outputs": [],
   "source": [
    "from scripts import data"
   ]
  },
  {
   "cell_type": "markdown",
   "id": "4439e00c-786c-4a9b-a722-d6d5bb9e5772",
   "metadata": {},
   "source": [
    "# Business Dynamics Statistics (BDS)\n",
    "\n",
    "[BDS](https://www.census.gov/programs-surveys/bds.html) provides annual measures of business dynamics (such as job creation and destruction, establishment births and deaths, and firm startups and shutdowns) for the economy overall and aggregated by establishment and firm characteristics."
   ]
  },
  {
   "cell_type": "code",
   "execution_count": null,
   "id": "410ced3c-e999-4a82-bcca-492efd3ecf4a",
   "metadata": {},
   "outputs": [],
   "source": [
    "data.get_bds_df?"
   ]
  },
  {
   "cell_type": "code",
   "execution_count": null,
   "id": "a3480ac6-b925-4940-a880-310e01911431",
   "metadata": {},
   "outputs": [],
   "source": [
    "data.get_bds_df('county').head()"
   ]
  },
  {
   "cell_type": "code",
   "execution_count": null,
   "id": "c265eea7-b967-41e2-9d73-383e02182984",
   "metadata": {},
   "outputs": [],
   "source": [
    "df = data.get_bds_df('nation').set_index('year')\n",
    "df['estabs_growth_rate'] = df['estabs_entry_rate'] - df['estabs_exit_rate']"
   ]
  },
  {
   "cell_type": "code",
   "execution_count": null,
   "id": "b2943ff5-e7ed-46ad-bd2a-e2ba693f9a89",
   "metadata": {},
   "outputs": [],
   "source": [
    "df[['net_job_creation_rate', 'estabs_growth_rate']].plot(title='Establishments and employment growth rate, %', grid=True);"
   ]
  },
  {
   "cell_type": "code",
   "execution_count": null,
   "id": "5b8ab795-111f-4d17-bc84-d39eee0d3174",
   "metadata": {},
   "outputs": [],
   "source": [
    "df[['estabs_entry_rate', 'estabs_exit_rate']].plot(title='Establishments entry and exit rate, %', grid=True);"
   ]
  },
  {
   "cell_type": "markdown",
   "id": "a2f37a5d-2431-406b-8477-3d4d4a74cfca",
   "metadata": {},
   "source": [
    "# County shapes\n",
    "\n",
    "[Cartographic Boundary Files](https://www.census.gov/geographies/mapping-files/time-series/geo/cartographic-boundary.html) The cartographic boundary files are simplified representations of selected geographic areas from the Census Bureau’s Master Address File/Topologically Integrated Geographic Encoding and Referencing (MAF/TIGER) System. These boundary files are specifically designed for small scale thematic mapping."
   ]
  },
  {
   "cell_type": "code",
   "execution_count": null,
   "id": "b51c673b-3456-436b-89b3-f5d1ba0c7f40",
   "metadata": {},
   "outputs": [],
   "source": [
    "data.get_county_shape_df?"
   ]
  },
  {
   "cell_type": "code",
   "execution_count": null,
   "id": "6eb98c7e-4fbb-44cc-ad55-2089ea5395de",
   "metadata": {},
   "outputs": [],
   "source": [
    "data.get_county_shape_df().head()"
   ]
  },
  {
   "cell_type": "markdown",
   "id": "ce5ea5c3-2bff-42d5-9a16-6c587ff17512",
   "metadata": {},
   "source": [
    "There is significant geographic variation in employment growth rates."
   ]
  },
  {
   "cell_type": "code",
   "execution_count": null,
   "id": "01c749ef-d659-445f-b9d4-c93768ba4059",
   "metadata": {},
   "outputs": [],
   "source": [
    "df = data.get_county_shape_df().query('statefp == \"55\"')\n",
    "d = data.get_bds_df('county').query('year == 2019')\n",
    "df = df.merge(d, how='left', on='fips')\n",
    "\n",
    "df.plot(column='net_job_creation_rate', legend=True).set_title('Employment growth rate in 2019, %');"
   ]
  },
  {
   "cell_type": "markdown",
   "id": "0a9e9730-35d1-4b27-a538-ad3ba851ab22",
   "metadata": {},
   "source": [
    "# Rural classification\n",
    "\n",
    "[Urban Influence Codes](https://www.ers.usda.gov/data-products/urban-influence-codes.aspx)\n",
    "\n",
    "The 2013 Urban Influence Codes form a classification scheme that distinguishes metropolitan counties by population size of their metro area, and nonmetropolitan counties by size of the largest city or town and proximity to metro and micropolitan areas. The standard Office of Management and Budget (OMB) metro and nonmetro categories have been subdivided into two metro and 10 nonmetro categories, resulting in a 12-part county classification. This scheme was originally developed in 1993. This scheme allows researchers to break county data into finer residential groups, beyond metro and nonmetro, particularly for the analysis of trends in nonmetro areas that are related to population density and metro influence. "
   ]
  },
  {
   "cell_type": "code",
   "execution_count": null,
   "id": "e80f5813-e39c-450f-9f92-5229d3e646f0",
   "metadata": {},
   "outputs": [],
   "source": [
    "data.get_ui_df?"
   ]
  },
  {
   "cell_type": "code",
   "execution_count": null,
   "id": "b707d7f1-6e9e-48e0-b284-2f2e484ec83a",
   "metadata": {},
   "outputs": [],
   "source": [
    "data.get_ui_df().head()"
   ]
  },
  {
   "cell_type": "code",
   "execution_count": null,
   "id": "b69ffa98-d0ad-46a7-80af-d8f55cacba1c",
   "metadata": {},
   "outputs": [],
   "source": [
    "d = data.get_ui_df()\\\n",
    "    .groupby(['uic', 'uic_desc'])\\\n",
    "    .aggregate({'fips': 'count', 'population': 'sum'})\\\n",
    "    .rename(columns={'fips': 'counties'})\n",
    "d['county share'] = d['counties'] / d['counties'].sum()\n",
    "d['population share'] = d['population'] / d['population'].sum()\n",
    "d.style.format({'counties': '{:,d}', 'population': '{:,d}', 'county share': '{:2.1%}', 'population share': '{:2.1%}'})"
   ]
  },
  {
   "cell_type": "markdown",
   "id": "9ee737c6-cdfe-4b70-9897-1d2611f199a4",
   "metadata": {},
   "source": [
    "Is the effect of establishment entry and exit on employment growth different between rural and urban areas?"
   ]
  },
  {
   "cell_type": "code",
   "execution_count": null,
   "id": "bc2e2d05-4505-434e-81e1-6b217fc0d935",
   "metadata": {},
   "outputs": [],
   "source": [
    "df = data.get_county_shape_df().query('statefp == \"55\"')\n",
    "d = data.get_ui_df()\n",
    "df = df.merge(d, how='left', on='fips')\n",
    "df['rurality'] = df['uic'].map(lambda x: 'metro' if x in [1, 2] else ('micro' if x in [3, 5, 8] else 'noncore'))\n",
    "df.plot(column='rurality', legend=True).set_title('Rurality level');"
   ]
  }
 ],
 "metadata": {
  "kernelspec": {
   "display_name": "Python 3 (ipykernel)",
   "language": "python",
   "name": "python3"
  },
  "language_info": {
   "codemirror_mode": {
    "name": "ipython",
    "version": 3
   },
   "file_extension": ".py",
   "mimetype": "text/x-python",
   "name": "python",
   "nbconvert_exporter": "python",
   "pygments_lexer": "ipython3",
   "version": "3.11.7"
  }
 },
 "nbformat": 4,
 "nbformat_minor": 5
}
