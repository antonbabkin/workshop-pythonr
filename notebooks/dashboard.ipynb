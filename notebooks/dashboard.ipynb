{
 "cells": [
  {
   "cell_type": "code",
   "execution_count": null,
   "id": "59bb0d01-c309-44d9-b591-8586f7414bcf",
   "metadata": {},
   "outputs": [],
   "source": [
    "# Set working directory to project root, identified by presence of the .Rproj file\n",
    "import os\n",
    "while not os.path.exists('workshop-pythonr.Rproj'):\n",
    "    current_dir = os.getcwd()\n",
    "    parent_dir = os.path.abspath(os.path.join(current_dir, '..'))\n",
    "    if current_dir == parent_dir:\n",
    "        raise Exception('Can not find project root directory.')\n",
    "    os.chdir('..')\n",
    "print('Working directory set to:', os.getcwd())"
   ]
  },
  {
   "cell_type": "markdown",
   "id": "bc8b7eee-141c-4a38-9288-86b65366608c",
   "metadata": {},
   "source": [
    "# Imports"
   ]
  },
  {
   "cell_type": "code",
   "execution_count": null,
   "id": "d8153d89-afb5-4eaf-98c4-25dee89578bd",
   "metadata": {},
   "outputs": [],
   "source": [
    "import ipywidgets as widgets\n",
    "import matplotlib.pyplot as plt\n",
    "import rpy2.robjects as robj\n",
    "import rpy2.robjects.packages\n",
    "\n",
    "from scripts import data\n",
    "\n",
    "base = robj.packages.importr('base')\n",
    "robj.r.source('scripts/analysis.R');"
   ]
  },
  {
   "cell_type": "markdown",
   "id": "b2219197-1697-41be-9554-2cca170c691c",
   "metadata": {},
   "source": [
    "# Load data and prepare regression wrapper"
   ]
  },
  {
   "cell_type": "code",
   "execution_count": null,
   "id": "9fc82700-2b68-4e10-b258-e307111c1217",
   "metadata": {},
   "outputs": [],
   "source": [
    "df = data.get_county_shape_df()\n",
    "# keep only contiguous states to simplify mapping\n",
    "df = df[~df['statefp'].isin(['02', '15', '60', '66', '69', '72', '78'])]\n",
    "d = data.get_ui_df()\n",
    "df = df.merge(d, how='inner', on='fips')\n",
    "\n",
    "def show_model(yearmin, yearmax, rural_uics):\n",
    "    \"\"\"Estimate and print regression model, calling function defined in R script.\"\"\"\n",
    "    m = robj.r.estimate_model(yearmin, yearmax, rural_uics)\n",
    "    s = base.summary(m)\n",
    "    \n",
    "    print('\\nCoefficient estimates:')\n",
    "    print(s.rx2('coefficients'))\n",
    "    \n",
    "    coef = dict(zip(m.rx2('coefficients').names, m.rx2('coefficients')))\n",
    "\n",
    "    est_urban = coef['estabs_entry_rate'] + coef['estabs_exit_rate']\n",
    "    est_rural = est_urban + coef['estabs_entry_rate:ruralTRUE'] + coef['estabs_exit_rate:ruralTRUE']\n",
    "    print('Employment growth rate difference in counties with +1% in establishment entry and exit rates')\n",
    "    print(f'Urban: {est_urban:+.3f}%')\n",
    "    print(f'Rural: {est_rural:+.3f}%')"
   ]
  },
  {
   "cell_type": "code",
   "execution_count": null,
   "id": "4cd51978-d954-4b31-a709-0f3fe04e56c0",
   "metadata": {},
   "outputs": [],
   "source": [
    "show_model(2017, 2021, [3,4,5,6,7,8,9,10,11,12])"
   ]
  },
  {
   "cell_type": "markdown",
   "id": "b73a395b-54e3-4320-aa1d-2033f89aa994",
   "metadata": {},
   "source": [
    "# Dashboard"
   ]
  },
  {
   "cell_type": "code",
   "execution_count": null,
   "id": "1b6e8eb9-336e-4f36-afc7-05165913a85d",
   "metadata": {},
   "outputs": [],
   "source": [
    "w_years = widgets.IntRangeSlider(min=1978, max=2021, value=(2005, 2015), description='Years', layout=widgets.Layout(width='500px'))\n",
    "\n",
    "uic_desc = {\n",
    "    1: 'metro large',\n",
    "    2: 'metro small',\n",
    "    3: 'micro adj metro large',\n",
    "    4: 'noncore adj metro large',\n",
    "    5: 'micro adj metro small',\n",
    "    6: 'noncore large adj metro small',\n",
    "    7: 'noncore small adj metro small',\n",
    "    8: 'micro not adj metro',\n",
    "    9: 'noncore large adj micro',\n",
    "    10: 'noncore small adj micro',\n",
    "    11: 'noncore large not adj micro',\n",
    "    12: 'noncore small not adj micro'\n",
    "}\n",
    "\n",
    "nr, nc = 4, 3\n",
    "w_uic = widgets.GridspecLayout(nr, nc)\n",
    "i = 1\n",
    "for c in range(nc):\n",
    "    for r in range(nr):\n",
    "        w_uic[r, c] = widgets.Checkbox(\n",
    "            description=f'{i}: {uic_desc[i]}',\n",
    "            value=(i not in [1, 2]),\n",
    "            layout={'width': 'max-content'})\n",
    "        i += 1\n",
    "\n",
    "w_map = widgets.Output()\n",
    "w_reg = widgets.Output()\n",
    "\n",
    "w_upd = widgets.Button(description=\"Update\")\n",
    "def update_map(caller):\n",
    "    selected_uics = [int(row.description.split(':')[0]) for row in w_uic.children if row.value]\n",
    "    with w_map:\n",
    "        w_map.clear_output()\n",
    "        df['rural'] = df['uic'].isin(selected_uics).map({True: 'rural', False: 'urban'})\n",
    "        plt.close()\n",
    "        df.plot(column='rural', legend=True, legend_kwds={'loc': 'lower right'});\n",
    "        plt.show()\n",
    "\n",
    "    with w_reg:\n",
    "        w_reg.clear_output()\n",
    "        show_model(*w_years.value, selected_uics)\n",
    "        \n",
    "w_upd.on_click(update_map)\n",
    "\n",
    "update_map(None)\n",
    "\n",
    "widgets.VBox([w_upd, w_years, w_uic, w_map, w_reg])\n"
   ]
  }
 ],
 "metadata": {
  "kernelspec": {
   "display_name": "Python 3 (ipykernel)",
   "language": "python",
   "name": "python3"
  },
  "language_info": {
   "codemirror_mode": {
    "name": "ipython",
    "version": 3
   },
   "file_extension": ".py",
   "mimetype": "text/x-python",
   "name": "python",
   "nbconvert_exporter": "python",
   "pygments_lexer": "ipython3",
   "version": "3.11.7"
  }
 },
 "nbformat": 4,
 "nbformat_minor": 5
}
