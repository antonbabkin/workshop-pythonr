{
 "cells": [
  {
   "cell_type": "code",
   "execution_count": null,
   "id": "59bb0d01-c309-44d9-b591-8586f7414bcf",
   "metadata": {},
   "outputs": [],
   "source": [
    "# Set working directory to project root, identified by presence of the .Rproj file\n",
    "import os\n",
    "while not os.path.exists('workshop-pythonr.Rproj'):\n",
    "    current_dir = os.getcwd()\n",
    "    parent_dir = os.path.abspath(os.path.join(current_dir, '..'))\n",
    "    if current_dir == parent_dir:\n",
    "        raise Exception('Can not find project root directory.')\n",
    "    os.chdir('..')\n",
    "print('Working directory set to:', os.getcwd())"
   ]
  },
  {
   "cell_type": "code",
   "execution_count": null,
   "id": "4a296310-28a6-4e84-9893-06361a14530a",
   "metadata": {},
   "outputs": [],
   "source": [
    "# Python imports\n",
    "import ipywidgets as widgets\n",
    "import matplotlib.pyplot as plt\n",
    "\n",
    "from scripts import data"
   ]
  },
  {
   "attachments": {},
   "cell_type": "markdown",
   "id": "cd702503-a0d2-4e17-a883-3e4f18a11ef0",
   "metadata": {},
   "source": [
    "# rpy2\n",
    "\n",
    "Similarly to `reticulate`, the `rpy2` package starts a parallel R process that Python communicates through the interface defined by the package.\n",
    "\n",
    "`rpy2.robjects.r` exposes global R namespace (environment) that holds objects such as `pi`, `lm` and `summary`."
   ]
  },
  {
   "cell_type": "code",
   "execution_count": null,
   "id": "13f34a6c-f410-49ff-b242-b059191ff66a",
   "metadata": {},
   "outputs": [],
   "source": [
    "import rpy2.robjects"
   ]
  },
  {
   "cell_type": "code",
   "execution_count": null,
   "id": "3b3d0f66-26c4-4c86-8dfd-3bc5c8e392c2",
   "metadata": {},
   "outputs": [],
   "source": [
    "rpy2.robjects.r.pi"
   ]
  },
  {
   "cell_type": "code",
   "execution_count": null,
   "id": "7d672bff-9af3-466f-b3e2-9718d29374ea",
   "metadata": {},
   "outputs": [],
   "source": [
    "# convert to native Python object\n",
    "list(rpy2.robjects.r.pi)"
   ]
  },
  {
   "cell_type": "code",
   "execution_count": null,
   "id": "2c266b7c-bb24-4479-9ccb-298049ab7676",
   "metadata": {},
   "outputs": [],
   "source": [
    "# error: analysis.R has not been sourced yet\n",
    "try:\n",
    "    rpy2.robjects.r.estimate_model\n",
    "except Exception as e:\n",
    "    print(e)"
   ]
  },
  {
   "cell_type": "code",
   "execution_count": null,
   "id": "25d47933-ca67-4554-8399-72a333cd743a",
   "metadata": {},
   "outputs": [],
   "source": [
    "# source the script\n",
    "rpy2.robjects.r.source('scripts/analysis.R')"
   ]
  },
  {
   "cell_type": "code",
   "execution_count": null,
   "id": "1333d85d-455b-4ce7-b212-beadedc4a5e3",
   "metadata": {},
   "outputs": [],
   "source": [
    "# now the function is defined\n",
    "rpy2.robjects.r.estimate_model"
   ]
  },
  {
   "cell_type": "code",
   "execution_count": null,
   "id": "8ca8c5c3-10ac-43f4-b23e-f0f5f383e165",
   "metadata": {},
   "outputs": [],
   "source": [
    "# we can pass Python objects as arguments to R functions, they will be automatically converted\n",
    "model = rpy2.robjects.r.estimate_model(2000, 2010, [3,4,5,6,7,8,9,10,11,12])\n",
    "summary = rpy2.robjects.r.summary(model)\n",
    "print(summary)"
   ]
  },
  {
   "cell_type": "code",
   "execution_count": null,
   "id": "0605f018-b937-48e5-8c66-0be638792bb9",
   "metadata": {},
   "outputs": [],
   "source": [
    "# .rx() and .rx2() can be used to access individual elements of vectors and lists\n",
    "# x.rx('key') is equivalent to x['key'] and returns a list of length 1\n",
    "# x.rx2('key') is equivalent to x[['key']] and returns an element of the list \n",
    "print(summary.names)\n",
    "print(summary.rx('coefficients'))\n",
    "print(summary.rx2('r.squared'))"
   ]
  },
  {
   "cell_type": "markdown",
   "id": "a742d89d-def5-432c-b36a-538b632f2357",
   "metadata": {},
   "source": [
    "# Load data for mapping"
   ]
  },
  {
   "cell_type": "code",
   "execution_count": null,
   "id": "5de0ca08-d58a-4b0e-a2d5-478f53190a68",
   "metadata": {},
   "outputs": [],
   "source": [
    "df = data.get_county_shape_df()\n",
    "# keep only contiguous states to simplify mapping\n",
    "df = df[~df['statefp'].isin(['02', '15', '60', '66', '69', '72', '78'])]\n",
    "d = data.get_ui_df()\n",
    "df = df.merge(d, how='inner', on='fips')"
   ]
  },
  {
   "cell_type": "markdown",
   "id": "6c184d4f-86b9-4d3b-9c41-527b589c7f8c",
   "metadata": {},
   "source": [
    "# Wrap R regression in a function"
   ]
  },
  {
   "cell_type": "code",
   "execution_count": null,
   "id": "744d2525-4d61-41c6-aa2e-e8b60ccd1fc3",
   "metadata": {},
   "outputs": [],
   "source": [
    "def show_model(yearmin, yearmax, rural_uics):\n",
    "    \"\"\"Estimate and print regression model, calling function defined in R script.\"\"\"\n",
    "    m = rpy2.robjects.r.estimate_model(yearmin, yearmax, rural_uics)\n",
    "    s = rpy2.robjects.r.summary(m)\n",
    "    \n",
    "    print('\\nCoefficient estimates:')\n",
    "    print(s.rx2('coefficients'))\n",
    "\n",
    "    # calculate and print the counterfactual\n",
    "    coef = dict(zip(m.rx2('coefficients').names, m.rx2('coefficients')))\n",
    "    est_urban = coef['estabs_entry_rate'] + coef['estabs_exit_rate']\n",
    "    est_rural = est_urban + coef['estabs_entry_rate:ruralTRUE'] + coef['estabs_exit_rate:ruralTRUE']\n",
    "    print('Employment growth rate difference in counties with +1% in establishment entry and exit rates')\n",
    "    print(f'Urban: {est_urban:+.3f}%')\n",
    "    print(f'Rural: {est_rural:+.3f}%')"
   ]
  },
  {
   "cell_type": "code",
   "execution_count": null,
   "id": "4cd51978-d954-4b31-a709-0f3fe04e56c0",
   "metadata": {},
   "outputs": [],
   "source": [
    "show_model(1978, 2021, [3,4,5,6,7,8,9,10,11,12])"
   ]
  },
  {
   "cell_type": "markdown",
   "id": "b73a395b-54e3-4320-aa1d-2033f89aa994",
   "metadata": {},
   "source": [
    "# Dashboard"
   ]
  },
  {
   "cell_type": "code",
   "execution_count": null,
   "id": "1b6e8eb9-336e-4f36-afc7-05165913a85d",
   "metadata": {},
   "outputs": [],
   "source": [
    "w_years = widgets.IntRangeSlider(min=1978, max=2021, value=(2005, 2015), description='Years', layout=widgets.Layout(width='500px'))\n",
    "\n",
    "uic_desc = {\n",
    "    1: 'metro large',\n",
    "    2: 'metro small',\n",
    "    3: 'micro adj metro large',\n",
    "    4: 'noncore adj metro large',\n",
    "    5: 'micro adj metro small',\n",
    "    6: 'noncore large adj metro small',\n",
    "    7: 'noncore small adj metro small',\n",
    "    8: 'micro not adj metro',\n",
    "    9: 'noncore large adj micro',\n",
    "    10: 'noncore small adj micro',\n",
    "    11: 'noncore large not adj micro',\n",
    "    12: 'noncore small not adj micro'\n",
    "}\n",
    "\n",
    "nr, nc = 4, 3\n",
    "w_uic = widgets.GridspecLayout(nr, nc)\n",
    "i = 1\n",
    "for c in range(nc):\n",
    "    for r in range(nr):\n",
    "        w_uic[r, c] = widgets.Checkbox(\n",
    "            description=f'{i}: {uic_desc[i]}',\n",
    "            value=(i not in [1, 2]),\n",
    "            layout={'width': 'max-content'})\n",
    "        i += 1\n",
    "\n",
    "w_map = widgets.Output()\n",
    "w_reg = widgets.Output()\n",
    "\n",
    "w_upd = widgets.Button(description=\"Update\")\n",
    "def update_map(caller):\n",
    "    selected_uics = [int(row.description.split(':')[0]) for row in w_uic.children if row.value]\n",
    "    with w_map:\n",
    "        w_map.clear_output()\n",
    "        df['rural'] = df['uic'].isin(selected_uics).map({True: 'rural', False: 'urban'})\n",
    "        plt.close()\n",
    "        df.plot(column='rural', legend=True, legend_kwds={'loc': 'lower right'});\n",
    "        plt.show()\n",
    "\n",
    "    with w_reg:\n",
    "        w_reg.clear_output()\n",
    "        show_model(*w_years.value, selected_uics)\n",
    "        \n",
    "w_upd.on_click(update_map)\n",
    "\n",
    "update_map(None)\n",
    "\n",
    "widgets.VBox([w_upd, w_years, w_uic, w_map, w_reg])\n"
   ]
  }
 ],
 "metadata": {
  "kernelspec": {
   "display_name": "Python 3 (ipykernel)",
   "language": "python",
   "name": "python3"
  },
  "language_info": {
   "codemirror_mode": {
    "name": "ipython",
    "version": 3
   },
   "file_extension": ".py",
   "mimetype": "text/x-python",
   "name": "python",
   "nbconvert_exporter": "python",
   "pygments_lexer": "ipython3",
   "version": "3.11.7"
  }
 },
 "nbformat": 4,
 "nbformat_minor": 5
}
